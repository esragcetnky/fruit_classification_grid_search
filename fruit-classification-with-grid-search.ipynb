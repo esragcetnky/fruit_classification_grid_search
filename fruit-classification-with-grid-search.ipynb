{
 "cells": [
  {
   "cell_type": "markdown",
   "id": "4e359483",
   "metadata": {
    "papermill": {
     "duration": 0.010393,
     "end_time": "2022-05-27T20:03:59.489340",
     "exception": false,
     "start_time": "2022-05-27T20:03:59.478947",
     "status": "completed"
    },
    "tags": []
   },
   "source": [
    "# 0.Import Libraries"
   ]
  },
  {
   "cell_type": "code",
   "execution_count": 1,
   "id": "32a6cceb",
   "metadata": {
    "execution": {
     "iopub.execute_input": "2022-05-27T20:03:59.512158Z",
     "iopub.status.busy": "2022-05-27T20:03:59.511443Z",
     "iopub.status.idle": "2022-05-27T20:04:02.489318Z",
     "shell.execute_reply": "2022-05-27T20:04:02.487942Z"
    },
    "papermill": {
     "duration": 2.991817,
     "end_time": "2022-05-27T20:04:02.492213",
     "exception": false,
     "start_time": "2022-05-27T20:03:59.500396",
     "status": "completed"
    },
    "tags": []
   },
   "outputs": [],
   "source": [
    "     \n",
    "import pandas as pd\n",
    "import numpy as np\n",
    "# for visualization\n",
    "import matplotlib.pyplot as plt\n",
    "%matplotlib inline\n",
    "import seaborn as sns\n",
    "\n",
    "# feature engineering\n",
    "from sklearn.impute import SimpleImputer\n",
    "from sklearn.compose import ColumnTransformer\n",
    "from sklearn.model_selection import train_test_split, GridSearchCV\n",
    "from sklearn.preprocessing import MinMaxScaler,StandardScaler\n",
    "from sklearn.pipeline import make_pipeline,Pipeline\n",
    "from sklearn.ensemble import StackingClassifier, RandomForestClassifier\n",
    "\n",
    "# for xgboost\n",
    "from xgboost import XGBClassifier\n",
    "from lightgbm import LGBMClassifier\n",
    "\n",
    "# for other model types\n",
    "from sklearn.neighbors import KNeighborsClassifier\n",
    "from sklearn.tree import DecisionTreeClassifier\n",
    "from sklearn.linear_model import LogisticRegression\n",
    "\n",
    "# for evaluating metrics\n",
    "from sklearn.metrics import classification_report, confusion_matrix, accuracy_score, f1_score\n",
    "from mlxtend.plotting import plot_confusion_matrix"
   ]
  },
  {
   "cell_type": "markdown",
   "id": "38d99ade",
   "metadata": {
    "papermill": {
     "duration": 0.009689,
     "end_time": "2022-05-27T20:04:02.511594",
     "exception": false,
     "start_time": "2022-05-27T20:04:02.501905",
     "status": "completed"
    },
    "tags": []
   },
   "source": [
    "# 1.Load Dataset"
   ]
  },
  {
   "cell_type": "code",
   "execution_count": 3,
   "id": "c31232e8",
   "metadata": {
    "execution": {
     "iopub.execute_input": "2022-05-27T20:04:16.393810Z",
     "iopub.status.busy": "2022-05-27T20:04:16.392678Z",
     "iopub.status.idle": "2022-05-27T20:04:17.443407Z",
     "shell.execute_reply": "2022-05-27T20:04:17.442532Z"
    },
    "papermill": {
     "duration": 1.064269,
     "end_time": "2022-05-27T20:04:17.445752",
     "exception": false,
     "start_time": "2022-05-27T20:04:16.381483",
     "status": "completed"
    },
    "tags": []
   },
   "outputs": [],
   "source": [
    "dataset = pd.read_excel(r'Data/Date_Fruit_Datasets.xlsx')"
   ]
  },
  {
   "cell_type": "markdown",
   "id": "43cdafc5",
   "metadata": {
    "papermill": {
     "duration": 0.009369,
     "end_time": "2022-05-27T20:04:17.464895",
     "exception": false,
     "start_time": "2022-05-27T20:04:17.455526",
     "status": "completed"
    },
    "tags": []
   },
   "source": [
    "# 3.Analyze Dataset"
   ]
  },
  {
   "cell_type": "code",
   "execution_count": 4,
   "id": "6b1d692d",
   "metadata": {
    "execution": {
     "iopub.execute_input": "2022-05-27T20:04:17.486025Z",
     "iopub.status.busy": "2022-05-27T20:04:17.485623Z",
     "iopub.status.idle": "2022-05-27T20:04:17.491218Z",
     "shell.execute_reply": "2022-05-27T20:04:17.490581Z"
    },
    "papermill": {
     "duration": 0.018947,
     "end_time": "2022-05-27T20:04:17.493516",
     "exception": false,
     "start_time": "2022-05-27T20:04:17.474569",
     "status": "completed"
    },
    "tags": []
   },
   "outputs": [
    {
     "data": {
      "text/plain": [
       "(898, 35)"
      ]
     },
     "execution_count": 4,
     "metadata": {},
     "output_type": "execute_result"
    }
   ],
   "source": [
    "dataset.shape"
   ]
  },
  {
   "cell_type": "code",
   "execution_count": 5,
   "id": "1bcc9e56",
   "metadata": {
    "execution": {
     "iopub.execute_input": "2022-05-27T20:04:17.515349Z",
     "iopub.status.busy": "2022-05-27T20:04:17.514939Z",
     "iopub.status.idle": "2022-05-27T20:04:17.553054Z",
     "shell.execute_reply": "2022-05-27T20:04:17.552155Z"
    },
    "papermill": {
     "duration": 0.051352,
     "end_time": "2022-05-27T20:04:17.555165",
     "exception": false,
     "start_time": "2022-05-27T20:04:17.503813",
     "status": "completed"
    },
    "tags": []
   },
   "outputs": [
    {
     "data": {
      "text/html": [
       "<div>\n",
       "<style scoped>\n",
       "    .dataframe tbody tr th:only-of-type {\n",
       "        vertical-align: middle;\n",
       "    }\n",
       "\n",
       "    .dataframe tbody tr th {\n",
       "        vertical-align: top;\n",
       "    }\n",
       "\n",
       "    .dataframe thead th {\n",
       "        text-align: right;\n",
       "    }\n",
       "</style>\n",
       "<table border=\"1\" class=\"dataframe\">\n",
       "  <thead>\n",
       "    <tr style=\"text-align: right;\">\n",
       "      <th></th>\n",
       "      <th>AREA</th>\n",
       "      <th>PERIMETER</th>\n",
       "      <th>MAJOR_AXIS</th>\n",
       "      <th>MINOR_AXIS</th>\n",
       "      <th>ECCENTRICITY</th>\n",
       "      <th>EQDIASQ</th>\n",
       "      <th>SOLIDITY</th>\n",
       "      <th>CONVEX_AREA</th>\n",
       "      <th>EXTENT</th>\n",
       "      <th>ASPECT_RATIO</th>\n",
       "      <th>...</th>\n",
       "      <th>KurtosisRR</th>\n",
       "      <th>KurtosisRG</th>\n",
       "      <th>KurtosisRB</th>\n",
       "      <th>EntropyRR</th>\n",
       "      <th>EntropyRG</th>\n",
       "      <th>EntropyRB</th>\n",
       "      <th>ALLdaub4RR</th>\n",
       "      <th>ALLdaub4RG</th>\n",
       "      <th>ALLdaub4RB</th>\n",
       "      <th>Class</th>\n",
       "    </tr>\n",
       "  </thead>\n",
       "  <tbody>\n",
       "    <tr>\n",
       "      <th>0</th>\n",
       "      <td>422163</td>\n",
       "      <td>2378.908</td>\n",
       "      <td>837.8484</td>\n",
       "      <td>645.6693</td>\n",
       "      <td>0.6373</td>\n",
       "      <td>733.1539</td>\n",
       "      <td>0.9947</td>\n",
       "      <td>424428</td>\n",
       "      <td>0.7831</td>\n",
       "      <td>1.2976</td>\n",
       "      <td>...</td>\n",
       "      <td>3.2370</td>\n",
       "      <td>2.9574</td>\n",
       "      <td>4.2287</td>\n",
       "      <td>-59191263232</td>\n",
       "      <td>-50714214400</td>\n",
       "      <td>-39922372608</td>\n",
       "      <td>58.7255</td>\n",
       "      <td>54.9554</td>\n",
       "      <td>47.8400</td>\n",
       "      <td>BERHI</td>\n",
       "    </tr>\n",
       "    <tr>\n",
       "      <th>1</th>\n",
       "      <td>338136</td>\n",
       "      <td>2085.144</td>\n",
       "      <td>723.8198</td>\n",
       "      <td>595.2073</td>\n",
       "      <td>0.5690</td>\n",
       "      <td>656.1464</td>\n",
       "      <td>0.9974</td>\n",
       "      <td>339014</td>\n",
       "      <td>0.7795</td>\n",
       "      <td>1.2161</td>\n",
       "      <td>...</td>\n",
       "      <td>2.6228</td>\n",
       "      <td>2.6350</td>\n",
       "      <td>3.1704</td>\n",
       "      <td>-34233065472</td>\n",
       "      <td>-37462601728</td>\n",
       "      <td>-31477794816</td>\n",
       "      <td>50.0259</td>\n",
       "      <td>52.8168</td>\n",
       "      <td>47.8315</td>\n",
       "      <td>BERHI</td>\n",
       "    </tr>\n",
       "    <tr>\n",
       "      <th>2</th>\n",
       "      <td>526843</td>\n",
       "      <td>2647.394</td>\n",
       "      <td>940.7379</td>\n",
       "      <td>715.3638</td>\n",
       "      <td>0.6494</td>\n",
       "      <td>819.0222</td>\n",
       "      <td>0.9962</td>\n",
       "      <td>528876</td>\n",
       "      <td>0.7657</td>\n",
       "      <td>1.3150</td>\n",
       "      <td>...</td>\n",
       "      <td>3.7516</td>\n",
       "      <td>3.8611</td>\n",
       "      <td>4.7192</td>\n",
       "      <td>-93948354560</td>\n",
       "      <td>-74738221056</td>\n",
       "      <td>-60311207936</td>\n",
       "      <td>65.4772</td>\n",
       "      <td>59.2860</td>\n",
       "      <td>51.9378</td>\n",
       "      <td>BERHI</td>\n",
       "    </tr>\n",
       "    <tr>\n",
       "      <th>3</th>\n",
       "      <td>416063</td>\n",
       "      <td>2351.210</td>\n",
       "      <td>827.9804</td>\n",
       "      <td>645.2988</td>\n",
       "      <td>0.6266</td>\n",
       "      <td>727.8378</td>\n",
       "      <td>0.9948</td>\n",
       "      <td>418255</td>\n",
       "      <td>0.7759</td>\n",
       "      <td>1.2831</td>\n",
       "      <td>...</td>\n",
       "      <td>5.0401</td>\n",
       "      <td>8.6136</td>\n",
       "      <td>8.2618</td>\n",
       "      <td>-32074307584</td>\n",
       "      <td>-32060925952</td>\n",
       "      <td>-29575010304</td>\n",
       "      <td>43.3900</td>\n",
       "      <td>44.1259</td>\n",
       "      <td>41.1882</td>\n",
       "      <td>BERHI</td>\n",
       "    </tr>\n",
       "    <tr>\n",
       "      <th>4</th>\n",
       "      <td>347562</td>\n",
       "      <td>2160.354</td>\n",
       "      <td>763.9877</td>\n",
       "      <td>582.8359</td>\n",
       "      <td>0.6465</td>\n",
       "      <td>665.2291</td>\n",
       "      <td>0.9908</td>\n",
       "      <td>350797</td>\n",
       "      <td>0.7569</td>\n",
       "      <td>1.3108</td>\n",
       "      <td>...</td>\n",
       "      <td>2.7016</td>\n",
       "      <td>2.9761</td>\n",
       "      <td>4.4146</td>\n",
       "      <td>-39980974080</td>\n",
       "      <td>-35980042240</td>\n",
       "      <td>-25593278464</td>\n",
       "      <td>52.7743</td>\n",
       "      <td>50.9080</td>\n",
       "      <td>42.6666</td>\n",
       "      <td>BERHI</td>\n",
       "    </tr>\n",
       "  </tbody>\n",
       "</table>\n",
       "<p>5 rows × 35 columns</p>\n",
       "</div>"
      ],
      "text/plain": [
       "     AREA  PERIMETER  MAJOR_AXIS  MINOR_AXIS  ECCENTRICITY   EQDIASQ  \\\n",
       "0  422163   2378.908    837.8484    645.6693        0.6373  733.1539   \n",
       "1  338136   2085.144    723.8198    595.2073        0.5690  656.1464   \n",
       "2  526843   2647.394    940.7379    715.3638        0.6494  819.0222   \n",
       "3  416063   2351.210    827.9804    645.2988        0.6266  727.8378   \n",
       "4  347562   2160.354    763.9877    582.8359        0.6465  665.2291   \n",
       "\n",
       "   SOLIDITY  CONVEX_AREA  EXTENT  ASPECT_RATIO  ...  KurtosisRR  KurtosisRG  \\\n",
       "0    0.9947       424428  0.7831        1.2976  ...      3.2370      2.9574   \n",
       "1    0.9974       339014  0.7795        1.2161  ...      2.6228      2.6350   \n",
       "2    0.9962       528876  0.7657        1.3150  ...      3.7516      3.8611   \n",
       "3    0.9948       418255  0.7759        1.2831  ...      5.0401      8.6136   \n",
       "4    0.9908       350797  0.7569        1.3108  ...      2.7016      2.9761   \n",
       "\n",
       "   KurtosisRB    EntropyRR    EntropyRG    EntropyRB  ALLdaub4RR  ALLdaub4RG  \\\n",
       "0      4.2287 -59191263232 -50714214400 -39922372608     58.7255     54.9554   \n",
       "1      3.1704 -34233065472 -37462601728 -31477794816     50.0259     52.8168   \n",
       "2      4.7192 -93948354560 -74738221056 -60311207936     65.4772     59.2860   \n",
       "3      8.2618 -32074307584 -32060925952 -29575010304     43.3900     44.1259   \n",
       "4      4.4146 -39980974080 -35980042240 -25593278464     52.7743     50.9080   \n",
       "\n",
       "   ALLdaub4RB  Class  \n",
       "0     47.8400  BERHI  \n",
       "1     47.8315  BERHI  \n",
       "2     51.9378  BERHI  \n",
       "3     41.1882  BERHI  \n",
       "4     42.6666  BERHI  \n",
       "\n",
       "[5 rows x 35 columns]"
      ]
     },
     "execution_count": 5,
     "metadata": {},
     "output_type": "execute_result"
    }
   ],
   "source": [
    "dataset.head()"
   ]
  },
  {
   "cell_type": "code",
   "execution_count": 6,
   "id": "afb72c3f",
   "metadata": {
    "execution": {
     "iopub.execute_input": "2022-05-27T20:04:17.577888Z",
     "iopub.status.busy": "2022-05-27T20:04:17.577494Z",
     "iopub.status.idle": "2022-05-27T20:04:17.604668Z",
     "shell.execute_reply": "2022-05-27T20:04:17.603595Z"
    },
    "papermill": {
     "duration": 0.04166,
     "end_time": "2022-05-27T20:04:17.607218",
     "exception": false,
     "start_time": "2022-05-27T20:04:17.565558",
     "status": "completed"
    },
    "tags": []
   },
   "outputs": [
    {
     "name": "stdout",
     "output_type": "stream",
     "text": [
      "<class 'pandas.core.frame.DataFrame'>\n",
      "RangeIndex: 898 entries, 0 to 897\n",
      "Data columns (total 35 columns):\n",
      " #   Column         Non-Null Count  Dtype  \n",
      "---  ------         --------------  -----  \n",
      " 0   AREA           898 non-null    int64  \n",
      " 1   PERIMETER      898 non-null    float64\n",
      " 2   MAJOR_AXIS     898 non-null    float64\n",
      " 3   MINOR_AXIS     898 non-null    float64\n",
      " 4   ECCENTRICITY   898 non-null    float64\n",
      " 5   EQDIASQ        898 non-null    float64\n",
      " 6   SOLIDITY       898 non-null    float64\n",
      " 7   CONVEX_AREA    898 non-null    int64  \n",
      " 8   EXTENT         898 non-null    float64\n",
      " 9   ASPECT_RATIO   898 non-null    float64\n",
      " 10  ROUNDNESS      898 non-null    float64\n",
      " 11  COMPACTNESS    898 non-null    float64\n",
      " 12  SHAPEFACTOR_1  898 non-null    float64\n",
      " 13  SHAPEFACTOR_2  898 non-null    float64\n",
      " 14  SHAPEFACTOR_3  898 non-null    float64\n",
      " 15  SHAPEFACTOR_4  898 non-null    float64\n",
      " 16  MeanRR         898 non-null    float64\n",
      " 17  MeanRG         898 non-null    float64\n",
      " 18  MeanRB         898 non-null    float64\n",
      " 19  StdDevRR       898 non-null    float64\n",
      " 20  StdDevRG       898 non-null    float64\n",
      " 21  StdDevRB       898 non-null    float64\n",
      " 22  SkewRR         898 non-null    float64\n",
      " 23  SkewRG         898 non-null    float64\n",
      " 24  SkewRB         898 non-null    float64\n",
      " 25  KurtosisRR     898 non-null    float64\n",
      " 26  KurtosisRG     898 non-null    float64\n",
      " 27  KurtosisRB     898 non-null    float64\n",
      " 28  EntropyRR      898 non-null    int64  \n",
      " 29  EntropyRG      898 non-null    int64  \n",
      " 30  EntropyRB      898 non-null    int64  \n",
      " 31  ALLdaub4RR     898 non-null    float64\n",
      " 32  ALLdaub4RG     898 non-null    float64\n",
      " 33  ALLdaub4RB     898 non-null    float64\n",
      " 34  Class          898 non-null    object \n",
      "dtypes: float64(29), int64(5), object(1)\n",
      "memory usage: 245.7+ KB\n"
     ]
    }
   ],
   "source": [
    "dataset.info()"
   ]
  },
  {
   "cell_type": "code",
   "execution_count": 7,
   "id": "88068e6d",
   "metadata": {
    "execution": {
     "iopub.execute_input": "2022-05-27T20:04:17.630589Z",
     "iopub.status.busy": "2022-05-27T20:04:17.629992Z",
     "iopub.status.idle": "2022-05-27T20:04:17.638007Z",
     "shell.execute_reply": "2022-05-27T20:04:17.637205Z"
    },
    "papermill": {
     "duration": 0.022313,
     "end_time": "2022-05-27T20:04:17.639936",
     "exception": false,
     "start_time": "2022-05-27T20:04:17.617623",
     "status": "completed"
    },
    "tags": []
   },
   "outputs": [
    {
     "data": {
      "text/plain": [
       "DOKOL     204\n",
       "SAFAVI    199\n",
       "ROTANA    166\n",
       "DEGLET     98\n",
       "SOGAY      94\n",
       "IRAQI      72\n",
       "BERHI      65\n",
       "Name: Class, dtype: int64"
      ]
     },
     "execution_count": 7,
     "metadata": {},
     "output_type": "execute_result"
    }
   ],
   "source": [
    "dataset['Class'].value_counts()"
   ]
  },
  {
   "cell_type": "code",
   "execution_count": 8,
   "id": "fafe12e4",
   "metadata": {
    "execution": {
     "iopub.execute_input": "2022-05-27T20:04:17.663009Z",
     "iopub.status.busy": "2022-05-27T20:04:17.662434Z",
     "iopub.status.idle": "2022-05-27T20:04:17.670499Z",
     "shell.execute_reply": "2022-05-27T20:04:17.669618Z"
    },
    "papermill": {
     "duration": 0.02174,
     "end_time": "2022-05-27T20:04:17.672361",
     "exception": false,
     "start_time": "2022-05-27T20:04:17.650621",
     "status": "completed"
    },
    "tags": []
   },
   "outputs": [
    {
     "data": {
      "text/plain": [
       "0"
      ]
     },
     "execution_count": 8,
     "metadata": {},
     "output_type": "execute_result"
    }
   ],
   "source": [
    "dataset.isnull().sum().sum()"
   ]
  },
  {
   "cell_type": "markdown",
   "id": "66be1cda",
   "metadata": {
    "papermill": {
     "duration": 0.010219,
     "end_time": "2022-05-27T20:04:17.693276",
     "exception": false,
     "start_time": "2022-05-27T20:04:17.683057",
     "status": "completed"
    },
    "tags": []
   },
   "source": [
    "# 4.Visualize Data"
   ]
  },
  {
   "cell_type": "markdown",
   "id": "300ecc87",
   "metadata": {
    "papermill": {
     "duration": 0.010399,
     "end_time": "2022-05-27T20:04:17.714162",
     "exception": false,
     "start_time": "2022-05-27T20:04:17.703763",
     "status": "completed"
    },
    "tags": []
   },
   "source": [
    "# 5.Train Test Split"
   ]
  },
  {
   "cell_type": "code",
   "execution_count": 9,
   "id": "7b692732",
   "metadata": {
    "execution": {
     "iopub.execute_input": "2022-05-27T20:04:17.737002Z",
     "iopub.status.busy": "2022-05-27T20:04:17.736444Z",
     "iopub.status.idle": "2022-05-27T20:04:17.755023Z",
     "shell.execute_reply": "2022-05-27T20:04:17.754241Z"
    },
    "papermill": {
     "duration": 0.032605,
     "end_time": "2022-05-27T20:04:17.757239",
     "exception": false,
     "start_time": "2022-05-27T20:04:17.724634",
     "status": "completed"
    },
    "tags": []
   },
   "outputs": [],
   "source": [
    "features=dataset.drop('Class',axis=1)\n",
    "labels=pd.DataFrame(dataset['Class'],columns=['Class'])\n",
    "X_train, X_test, Y_train, Y_test=train_test_split(features,labels,test_size=0.2,shuffle=True,stratify=labels)"
   ]
  },
  {
   "cell_type": "markdown",
   "id": "b97be6c4",
   "metadata": {
    "papermill": {
     "duration": 0.010295,
     "end_time": "2022-05-27T20:04:17.778267",
     "exception": false,
     "start_time": "2022-05-27T20:04:17.767972",
     "status": "completed"
    },
    "tags": []
   },
   "source": [
    "# 6.Column Transformer"
   ]
  },
  {
   "cell_type": "code",
   "execution_count": 10,
   "id": "9f86436f",
   "metadata": {
    "execution": {
     "iopub.execute_input": "2022-05-27T20:04:17.801216Z",
     "iopub.status.busy": "2022-05-27T20:04:17.800651Z",
     "iopub.status.idle": "2022-05-27T20:04:17.806163Z",
     "shell.execute_reply": "2022-05-27T20:04:17.805521Z"
    },
    "papermill": {
     "duration": 0.019302,
     "end_time": "2022-05-27T20:04:17.808048",
     "exception": false,
     "start_time": "2022-05-27T20:04:17.788746",
     "status": "completed"
    },
    "tags": []
   },
   "outputs": [],
   "source": [
    "column_names=X_train.columns\n",
    "num_columns_trans=Pipeline(steps=[('scale',StandardScaler())])\n",
    "col_transformer=ColumnTransformer(transformers=[('num',Pipeline(steps=[('scale',StandardScaler())]),column_names)])"
   ]
  },
  {
   "cell_type": "markdown",
   "id": "69885433",
   "metadata": {
    "papermill": {
     "duration": 0.010451,
     "end_time": "2022-05-27T20:04:17.829108",
     "exception": false,
     "start_time": "2022-05-27T20:04:17.818657",
     "status": "completed"
    },
    "tags": []
   },
   "source": [
    "# 7.Class Weights"
   ]
  },
  {
   "cell_type": "code",
   "execution_count": 11,
   "id": "f2647152",
   "metadata": {
    "execution": {
     "iopub.execute_input": "2022-05-27T20:04:17.852759Z",
     "iopub.status.busy": "2022-05-27T20:04:17.852203Z",
     "iopub.status.idle": "2022-05-27T20:04:17.861116Z",
     "shell.execute_reply": "2022-05-27T20:04:17.860089Z"
    },
    "papermill": {
     "duration": 0.023457,
     "end_time": "2022-05-27T20:04:17.863125",
     "exception": false,
     "start_time": "2022-05-27T20:04:17.839668",
     "status": "completed"
    },
    "tags": []
   },
   "outputs": [
    {
     "data": {
      "text/plain": [
       "{'DOKOL': 0.2270195,\n",
       " 'SAFAVI': 0.22144847,\n",
       " 'ROTANA': 0.18523677,\n",
       " 'DEGLET': 0.1086351,\n",
       " 'SOGAY': 0.10445682,\n",
       " 'IRAQI': 0.08077994,\n",
       " 'BERHI': 0.0724234}"
      ]
     },
     "execution_count": 11,
     "metadata": {},
     "output_type": "execute_result"
    }
   ],
   "source": [
    "class_count=Y_train['Class'].value_counts().to_dict()\n",
    "for key, value in class_count.items():\n",
    "    # do something with value\n",
    "    class_count[key] = round(value/len(Y_train),8)\n",
    "class_count"
   ]
  },
  {
   "cell_type": "code",
   "execution_count": 12,
   "id": "6271393a",
   "metadata": {
    "execution": {
     "iopub.execute_input": "2022-05-27T20:04:17.886745Z",
     "iopub.status.busy": "2022-05-27T20:04:17.886191Z",
     "iopub.status.idle": "2022-05-27T20:04:17.892219Z",
     "shell.execute_reply": "2022-05-27T20:04:17.891291Z"
    },
    "papermill": {
     "duration": 0.020303,
     "end_time": "2022-05-27T20:04:17.894290",
     "exception": false,
     "start_time": "2022-05-27T20:04:17.873987",
     "status": "completed"
    },
    "tags": []
   },
   "outputs": [
    {
     "data": {
      "text/plain": [
       "1.0"
      ]
     },
     "execution_count": 12,
     "metadata": {},
     "output_type": "execute_result"
    }
   ],
   "source": [
    "sum(class_count.values())"
   ]
  },
  {
   "cell_type": "markdown",
   "id": "6e96797b",
   "metadata": {
    "papermill": {
     "duration": 0.011038,
     "end_time": "2022-05-27T20:04:17.916349",
     "exception": false,
     "start_time": "2022-05-27T20:04:17.905311",
     "status": "completed"
    },
    "tags": []
   },
   "source": [
    "# 8.LGBMClassifier\n",
    "## 8.1 Pipeline"
   ]
  },
  {
   "cell_type": "code",
   "execution_count": 13,
   "id": "6cb1e75c",
   "metadata": {
    "execution": {
     "iopub.execute_input": "2022-05-27T20:04:17.940541Z",
     "iopub.status.busy": "2022-05-27T20:04:17.939933Z",
     "iopub.status.idle": "2022-05-27T20:04:17.947143Z",
     "shell.execute_reply": "2022-05-27T20:04:17.946480Z"
    },
    "papermill": {
     "duration": 0.021502,
     "end_time": "2022-05-27T20:04:17.949109",
     "exception": false,
     "start_time": "2022-05-27T20:04:17.927607",
     "status": "completed"
    },
    "tags": []
   },
   "outputs": [],
   "source": [
    "pipeline_lgbm=Pipeline(steps=[\n",
    "    ('transformer',col_transformer),\n",
    "    ('model',LGBMClassifier(boosting_type='gbdt',\n",
    "                            num_leaves=200,\n",
    "                            max_depth=-1,\n",
    "                            learning_rate=0.095,\n",
    "                            n_estimators=200,\n",
    "                            subsample_for_bin=200000,\n",
    "                            objective=None,\n",
    "                            class_weight=class_count,\n",
    "                            min_split_gain=0.0,\n",
    "                            min_child_weight=0.001,\n",
    "                            min_child_samples=20,\n",
    "                            subsample=1.0,\n",
    "                            subsample_freq=0,\n",
    "                            colsample_bytree=1.0,\n",
    "                            reg_alpha=0.0,\n",
    "                            reg_lambda=0.0,\n",
    "                            random_state=None))\n",
    "])"
   ]
  },
  {
   "cell_type": "markdown",
   "id": "22a42627",
   "metadata": {
    "papermill": {
     "duration": 0.010705,
     "end_time": "2022-05-27T20:04:17.970731",
     "exception": false,
     "start_time": "2022-05-27T20:04:17.960026",
     "status": "completed"
    },
    "tags": []
   },
   "source": [
    "## 8.2 Grid Search"
   ]
  },
  {
   "cell_type": "code",
   "execution_count": 14,
   "id": "c98be3f3",
   "metadata": {
    "execution": {
     "iopub.execute_input": "2022-05-27T20:04:17.995456Z",
     "iopub.status.busy": "2022-05-27T20:04:17.994562Z",
     "iopub.status.idle": "2022-05-27T20:04:53.998268Z",
     "shell.execute_reply": "2022-05-27T20:04:53.997242Z"
    },
    "papermill": {
     "duration": 36.030317,
     "end_time": "2022-05-27T20:04:54.012317",
     "exception": false,
     "start_time": "2022-05-27T20:04:17.982000",
     "status": "completed"
    },
    "tags": []
   },
   "outputs": [
    {
     "data": {
      "text/plain": [
       "GridSearchCV(cv=5, error_score='raise',\n",
       "             estimator=Pipeline(steps=[('transformer',\n",
       "                                        ColumnTransformer(transformers=[('num',\n",
       "                                                                         Pipeline(steps=[('scale',\n",
       "                                                                                          StandardScaler())]),\n",
       "                                                                         Index(['AREA', 'PERIMETER', 'MAJOR_AXIS', 'MINOR_AXIS', 'ECCENTRICITY',\n",
       "       'EQDIASQ', 'SOLIDITY', 'CONVEX_AREA', 'EXTENT', 'ASPECT_RATIO',\n",
       "       'ROUNDNESS', 'COMPACTNESS', 'SHAPEFACTOR_1', 'SHAPEFACTOR_2',\n",
       "       'SH...\n",
       "                                       ('model',\n",
       "                                        LGBMClassifier(class_weight={'BERHI': 0.0724234,\n",
       "                                                                     'DEGLET': 0.1086351,\n",
       "                                                                     'DOKOL': 0.2270195,\n",
       "                                                                     'IRAQI': 0.08077994,\n",
       "                                                                     'ROTANA': 0.18523677,\n",
       "                                                                     'SAFAVI': 0.22144847,\n",
       "                                                                     'SOGAY': 0.10445682},\n",
       "                                                       learning_rate=0.095,\n",
       "                                                       n_estimators=200,\n",
       "                                                       num_leaves=200))]),\n",
       "             param_grid={'model__learning_rate': [0.095, 0.1],\n",
       "                         'model__n_estimators': [220, 200],\n",
       "                         'model__num_leaves': [199, 120]},\n",
       "             scoring='accuracy')"
      ]
     },
     "execution_count": 14,
     "metadata": {},
     "output_type": "execute_result"
    }
   ],
   "source": [
    "param_grid_lgbm = {\n",
    "    'model__num_leaves':[199,120],\n",
    "    'model__learning_rate':[0.095,0.1],\n",
    "    'model__n_estimators':[220,200]\n",
    "}\n",
    "\n",
    "grid_search_lgbm = GridSearchCV(pipeline_lgbm, param_grid_lgbm, cv=5, scoring='accuracy',error_score='raise')\n",
    "# and now we train over all the possible combinations of the parameters above\n",
    "grid_search_lgbm.fit(X_train,Y_train.values.ravel())"
   ]
  },
  {
   "cell_type": "code",
   "execution_count": 15,
   "id": "7c20cf01",
   "metadata": {
    "execution": {
     "iopub.execute_input": "2022-05-27T20:04:54.036565Z",
     "iopub.status.busy": "2022-05-27T20:04:54.036095Z",
     "iopub.status.idle": "2022-05-27T20:04:54.054159Z",
     "shell.execute_reply": "2022-05-27T20:04:54.053259Z"
    },
    "papermill": {
     "duration": 0.032893,
     "end_time": "2022-05-27T20:04:54.056441",
     "exception": false,
     "start_time": "2022-05-27T20:04:54.023548",
     "status": "completed"
    },
    "tags": []
   },
   "outputs": [],
   "source": [
    "grid_preds_lgbm=grid_search_lgbm.predict(X_test)"
   ]
  },
  {
   "cell_type": "markdown",
   "id": "29ea1479",
   "metadata": {
    "papermill": {
     "duration": 0.011254,
     "end_time": "2022-05-27T20:04:54.080687",
     "exception": false,
     "start_time": "2022-05-27T20:04:54.069433",
     "status": "completed"
    },
    "tags": []
   },
   "source": [
    "## 8.3 Model Evaluation"
   ]
  },
  {
   "cell_type": "code",
   "execution_count": 16,
   "id": "5d7cbf77",
   "metadata": {
    "execution": {
     "iopub.execute_input": "2022-05-27T20:04:54.105761Z",
     "iopub.status.busy": "2022-05-27T20:04:54.105348Z",
     "iopub.status.idle": "2022-05-27T20:04:54.110872Z",
     "shell.execute_reply": "2022-05-27T20:04:54.110231Z"
    },
    "papermill": {
     "duration": 0.020255,
     "end_time": "2022-05-27T20:04:54.112756",
     "exception": false,
     "start_time": "2022-05-27T20:04:54.092501",
     "status": "completed"
    },
    "tags": []
   },
   "outputs": [
    {
     "data": {
      "text/plain": [
       "{'model__learning_rate': 0.1,\n",
       " 'model__n_estimators': 220,\n",
       " 'model__num_leaves': 199}"
      ]
     },
     "execution_count": 16,
     "metadata": {},
     "output_type": "execute_result"
    }
   ],
   "source": [
    "grid_search_lgbm.best_params_"
   ]
  },
  {
   "cell_type": "code",
   "execution_count": 17,
   "id": "f72e3c82",
   "metadata": {
    "execution": {
     "iopub.execute_input": "2022-05-27T20:04:54.137857Z",
     "iopub.status.busy": "2022-05-27T20:04:54.137322Z",
     "iopub.status.idle": "2022-05-27T20:04:54.151294Z",
     "shell.execute_reply": "2022-05-27T20:04:54.150499Z"
    },
    "papermill": {
     "duration": 0.029399,
     "end_time": "2022-05-27T20:04:54.153754",
     "exception": false,
     "start_time": "2022-05-27T20:04:54.124355",
     "status": "completed"
    },
    "tags": []
   },
   "outputs": [
    {
     "name": "stdout",
     "output_type": "stream",
     "text": [
      "              precision    recall  f1-score   support\n",
      "\n",
      "       BERHI       1.00      0.62      0.76        13\n",
      "      DEGLET       0.75      0.60      0.67        20\n",
      "       DOKOL       0.93      1.00      0.96        41\n",
      "       IRAQI       0.78      1.00      0.88        14\n",
      "      ROTANA       0.91      0.97      0.94        33\n",
      "      SAFAVI       1.00      1.00      1.00        40\n",
      "       SOGAY       0.74      0.74      0.74        19\n",
      "\n",
      "    accuracy                           0.89       180\n",
      "   macro avg       0.87      0.85      0.85       180\n",
      "weighted avg       0.90      0.89      0.89       180\n",
      "\n"
     ]
    }
   ],
   "source": [
    "print(classification_report(Y_test,grid_preds_lgbm))"
   ]
  },
  {
   "cell_type": "code",
   "execution_count": 18,
   "id": "f0f4e8c0",
   "metadata": {
    "execution": {
     "iopub.execute_input": "2022-05-27T20:04:54.178546Z",
     "iopub.status.busy": "2022-05-27T20:04:54.177904Z",
     "iopub.status.idle": "2022-05-27T20:04:54.570409Z",
     "shell.execute_reply": "2022-05-27T20:04:54.569362Z"
    },
    "papermill": {
     "duration": 0.407463,
     "end_time": "2022-05-27T20:04:54.572730",
     "exception": false,
     "start_time": "2022-05-27T20:04:54.165267",
     "status": "completed"
    },
    "tags": []
   },
   "outputs": [
    {
     "data": {
      "image/png": "[encoded data removed]",
      "text/plain": [
       "<Figure size 720x720 with 1 Axes>"
      ]
     },
     "metadata": {
      "needs_background": "light"
     },
     "output_type": "display_data"
    }
   ],
   "source": [
    "result=confusion_matrix(Y_test,grid_preds_lgbm)\n",
    "fig,ax=plt.subplots(figsize=(10,10))\n",
    "plot_confusion_matrix(conf_mat=result,figsize=(18,10),class_names=np.unique(Y_test),axis=ax)\n",
    "\n",
    "ax.set_title('Confusion Matrix with Model\\n\\n');\n",
    "fig.show()"
   ]
  },
  {
   "cell_type": "markdown",
   "id": "0de0e410",
   "metadata": {
    "papermill": {
     "duration": 0.011613,
     "end_time": "2022-05-27T20:04:54.596353",
     "exception": false,
     "start_time": "2022-05-27T20:04:54.584740",
     "status": "completed"
    },
    "tags": []
   },
   "source": [
    "# 9.Pipeline with KNN\n",
    "## 9.1 Pipeline"
   ]
  },
  {
   "cell_type": "code",
   "execution_count": 19,
   "id": "fc96ac52",
   "metadata": {
    "execution": {
     "iopub.execute_input": "2022-05-27T20:04:54.621731Z",
     "iopub.status.busy": "2022-05-27T20:04:54.621313Z",
     "iopub.status.idle": "2022-05-27T20:04:54.627445Z",
     "shell.execute_reply": "2022-05-27T20:04:54.626228Z"
    },
    "papermill": {
     "duration": 0.021491,
     "end_time": "2022-05-27T20:04:54.629781",
     "exception": false,
     "start_time": "2022-05-27T20:04:54.608290",
     "status": "completed"
    },
    "tags": []
   },
   "outputs": [],
   "source": [
    "pipeline_knn=Pipeline(steps=[\n",
    "    ('transformer',col_transformer),\n",
    "    ('model',KNeighborsClassifier(n_neighbors=5,\n",
    "                                  leaf_size=30,\n",
    "                                  p=2))\n",
    "])"
   ]
  },
  {
   "cell_type": "markdown",
   "id": "d2a67220",
   "metadata": {
    "papermill": {
     "duration": 0.011696,
     "end_time": "2022-05-27T20:04:54.653358",
     "exception": false,
     "start_time": "2022-05-27T20:04:54.641662",
     "status": "completed"
    },
    "tags": []
   },
   "source": [
    "## 9.2 Grid Search "
   ]
  },
  {
   "cell_type": "code",
   "execution_count": 20,
   "id": "8fc93c6d",
   "metadata": {
    "execution": {
     "iopub.execute_input": "2022-05-27T20:04:54.679038Z",
     "iopub.status.busy": "2022-05-27T20:04:54.678583Z",
     "iopub.status.idle": "2022-05-27T20:05:08.567837Z",
     "shell.execute_reply": "2022-05-27T20:05:08.566694Z"
    },
    "papermill": {
     "duration": 13.906035,
     "end_time": "2022-05-27T20:05:08.571110",
     "exception": false,
     "start_time": "2022-05-27T20:04:54.665075",
     "status": "completed"
    },
    "tags": []
   },
   "outputs": [
    {
     "data": {
      "text/plain": [
       "GridSearchCV(cv=5, error_score='raise',\n",
       "             estimator=Pipeline(steps=[('transformer',\n",
       "                                        ColumnTransformer(transformers=[('num',\n",
       "                                                                         Pipeline(steps=[('scale',\n",
       "                                                                                          StandardScaler())]),\n",
       "                                                                         Index(['AREA', 'PERIMETER', 'MAJOR_AXIS', 'MINOR_AXIS', 'ECCENTRICITY',\n",
       "       'EQDIASQ', 'SOLIDITY', 'CONVEX_AREA', 'EXTENT', 'ASPECT_RATIO',\n",
       "       'ROUNDNESS', 'COMPACTNESS', 'SHAPEFACTOR_1', 'SHAPEFACTOR_2',\n",
       "       'SH...\n",
       "       'StdDevRR', 'StdDevRG', 'StdDevRB', 'SkewRR', 'SkewRG', 'SkewRB',\n",
       "       'KurtosisRR', 'KurtosisRG', 'KurtosisRB', 'EntropyRR', 'EntropyRG',\n",
       "       'EntropyRB', 'ALLdaub4RR', 'ALLdaub4RG', 'ALLdaub4RB'],\n",
       "      dtype='object'))])),\n",
       "                                       ('model', KNeighborsClassifier())]),\n",
       "             param_grid={'model__leaf_size': [5, 15, 2, 3, 4],\n",
       "                         'model__n_neighbors': [5, 10, 2, 3, 4],\n",
       "                         'model__p': [1, 2],\n",
       "                         'model__weights': ['uniform', 'distance']},\n",
       "             scoring='accuracy')"
      ]
     },
     "execution_count": 20,
     "metadata": {},
     "output_type": "execute_result"
    }
   ],
   "source": [
    "param_grid_knn = {\n",
    "    'model__n_neighbors':[5,10,2,3,4],\n",
    "    'model__leaf_size':[5,15,2,3,4],\n",
    "    'model__p':[1,2],\n",
    "    'model__weights':['uniform','distance']\n",
    "}\n",
    "\n",
    "grid_search_knn = GridSearchCV(pipeline_knn, param_grid_knn, cv=5, scoring='accuracy',error_score='raise')\n",
    "# and now we train over all the possible combinations of the parameters above\n",
    "grid_search_knn.fit(X_train,Y_train.values.ravel())"
   ]
  },
  {
   "cell_type": "markdown",
   "id": "1ad36e74",
   "metadata": {
    "papermill": {
     "duration": 0.014062,
     "end_time": "2022-05-27T20:05:08.608357",
     "exception": false,
     "start_time": "2022-05-27T20:05:08.594295",
     "status": "completed"
    },
    "tags": []
   },
   "source": [
    "## 9.3 Model Evaluation"
   ]
  },
  {
   "cell_type": "code",
   "execution_count": 21,
   "id": "2412e2c4",
   "metadata": {
    "execution": {
     "iopub.execute_input": "2022-05-27T20:05:08.637977Z",
     "iopub.status.busy": "2022-05-27T20:05:08.636989Z",
     "iopub.status.idle": "2022-05-27T20:05:08.655770Z",
     "shell.execute_reply": "2022-05-27T20:05:08.654797Z"
    },
    "papermill": {
     "duration": 0.037182,
     "end_time": "2022-05-27T20:05:08.658021",
     "exception": false,
     "start_time": "2022-05-27T20:05:08.620839",
     "status": "completed"
    },
    "tags": []
   },
   "outputs": [
    {
     "data": {
      "text/plain": [
       "{'model__leaf_size': 5,\n",
       " 'model__n_neighbors': 5,\n",
       " 'model__p': 1,\n",
       " 'model__weights': 'distance'}"
      ]
     },
     "execution_count": 21,
     "metadata": {},
     "output_type": "execute_result"
    }
   ],
   "source": [
    "grid_preds_knn=grid_search_knn.predict(X_test)\n",
    "grid_search_knn.best_params_"
   ]
  },
  {
   "cell_type": "code",
   "execution_count": 22,
   "id": "61d1c30a",
   "metadata": {
    "execution": {
     "iopub.execute_input": "2022-05-27T20:05:08.685175Z",
     "iopub.status.busy": "2022-05-27T20:05:08.684483Z",
     "iopub.status.idle": "2022-05-27T20:05:08.699223Z",
     "shell.execute_reply": "2022-05-27T20:05:08.698383Z"
    },
    "papermill": {
     "duration": 0.030881,
     "end_time": "2022-05-27T20:05:08.701457",
     "exception": false,
     "start_time": "2022-05-27T20:05:08.670576",
     "status": "completed"
    },
    "tags": []
   },
   "outputs": [
    {
     "name": "stdout",
     "output_type": "stream",
     "text": [
      "              precision    recall  f1-score   support\n",
      "\n",
      "       BERHI       1.00      0.77      0.87        13\n",
      "      DEGLET       0.72      0.65      0.68        20\n",
      "       DOKOL       0.93      1.00      0.96        41\n",
      "       IRAQI       0.88      1.00      0.93        14\n",
      "      ROTANA       0.94      0.97      0.96        33\n",
      "      SAFAVI       1.00      1.00      1.00        40\n",
      "       SOGAY       0.78      0.74      0.76        19\n",
      "\n",
      "    accuracy                           0.91       180\n",
      "   macro avg       0.89      0.88      0.88       180\n",
      "weighted avg       0.91      0.91      0.91       180\n",
      "\n"
     ]
    }
   ],
   "source": [
    "print(classification_report(Y_test,grid_preds_knn))"
   ]
  },
  {
   "cell_type": "code",
   "execution_count": 23,
   "id": "d6a1af30",
   "metadata": {
    "execution": {
     "iopub.execute_input": "2022-05-27T20:05:08.729330Z",
     "iopub.status.busy": "2022-05-27T20:05:08.728729Z",
     "iopub.status.idle": "2022-05-27T20:05:09.084461Z",
     "shell.execute_reply": "2022-05-27T20:05:09.083206Z"
    },
    "papermill": {
     "duration": 0.372374,
     "end_time": "2022-05-27T20:05:09.087091",
     "exception": false,
     "start_time": "2022-05-27T20:05:08.714717",
     "status": "completed"
    },
    "tags": []
   },
   "outputs": [
    {
     "data": {
      "image/png": "[encoded data removed]",
      "text/plain": [
       "<Figure size 720x720 with 1 Axes>"
      ]
     },
     "metadata": {
      "needs_background": "light"
     },
     "output_type": "display_data"
    }
   ],
   "source": [
    "result=confusion_matrix(Y_test,grid_preds_knn)\n",
    "fig,ax=plt.subplots(figsize=(10,10))\n",
    "plot_confusion_matrix(conf_mat=result,figsize=(18,10),class_names=np.unique(Y_test),axis=ax)\n",
    "\n",
    "ax.set_title('Confusion Matrix with Model\\n\\n');\n",
    "fig.show()"
   ]
  }
 ],
 "metadata": {
  "kernelspec": {
   "display_name": "Python 3",
   "language": "python",
   "name": "python3"
  },
  "language_info": {
   "codemirror_mode": {
    "name": "ipython",
    "version": 3
   },
   "file_extension": ".py",
   "mimetype": "text/x-python",
   "name": "python",
   "nbconvert_exporter": "python",
   "pygments_lexer": "ipython3",
   "version": "3.10.11"
  },
  "papermill": {
   "default_parameters": {},
   "duration": 81.12213,
   "end_time": "2022-05-27T20:05:10.328379",
   "environment_variables": {},
   "exception": null,
   "input_path": "__notebook__.ipynb",
   "output_path": "__notebook__.ipynb",
   "parameters": {},
   "start_time": "2022-05-27T20:03:49.206249",
   "version": "2.3.4"
  }
 },
 "nbformat": 4,
 "nbformat_minor": 5
}
